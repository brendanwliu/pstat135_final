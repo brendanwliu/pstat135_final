{
 "cells": [
  {
   "cell_type": "markdown",
   "metadata": {},
   "source": [
    "# Project Proposal - NOAA Soil Fertility Data\n",
    "## Brendan Liu (9441056), Elaine Sieng (4279873), Joshua Kim (9660796)"
   ]
  },
  {
   "cell_type": "code",
   "execution_count": null,
   "metadata": {},
   "outputs": [],
   "source": [
    "wget https://www.nodc.noaa.gov/cgi-bin/OAS/prd/download/52765.1.1.tar.gz"
   ]
  },
  {
   "cell_type": "markdown",
   "metadata": {},
   "source": [
    "The National Estuarine Research Reserve System's System-wide Monitoring Program (NERRS SWMP) collected water quality, meteorological, and nutrient data in 26 reserves in the United States and Puerto Rico from January 1, 1995 to August 1, 2011. The NERRS Centralized Data Management Office (CDMO) assembled these data and submitted them to NODC per the \"Memorandum of Understanding between the Office of Ocean and Coastal Resource Management and the National Oceanographic Data Center Concerning the Transmittal of National Estuarine Research Reserve System Water Quality Monitoring Data.\" Water quality parameters include temperature, water depth, salinity, pH, dissolved oxygen, and turbidity. Meteorological parameters include air temperature, wind speed and direction, relative humidity, barometric pressure, rainfall, and photosynthetically active radiation (PAR). Nutrient parameters include concentrations of ammonium, nitrate, nitrite, and ortho-phosphate. \n",
    "We would be predicting ammonium, nitrate, nitrite concentrations using water quality and meteorological parameters. Both water and meteorological parameters could contribute to nutrient quality. Nutrient quality is also given in the data, meaning we can verify our predictions. "
   ]
  },
  {
   "cell_type": "markdown",
   "metadata": {},
   "source": [
    "## Research Questions\n",
    "* In what ways do water quality and meteorological parameters affect nutrient content? "
   ]
  }
 ],
 "metadata": {
  "kernelspec": {
   "display_name": "PySpark",
   "language": "",
   "name": "pysparkkernel"
  },
  "language_info": {
   "codemirror_mode": {
    "name": "python",
    "version": 3
   },
   "mimetype": "text/x-python",
   "name": "pyspark",
   "pygments_lexer": "python3"
  }
 },
 "nbformat": 4,
 "nbformat_minor": 4
}
