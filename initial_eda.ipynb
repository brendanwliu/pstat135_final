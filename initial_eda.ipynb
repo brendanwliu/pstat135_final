{
 "cells": [
  {
   "cell_type": "markdown",
   "metadata": {},
   "source": [
    "# Preliminary Data Analysis"
   ]
  },
  {
   "cell_type": "code",
   "execution_count": 1,
   "metadata": {},
   "outputs": [],
   "source": [
    "from pyspark import SparkContext\n",
    "from pyspark.sql import SQLContext, SparkSession\n",
    "from pyspark.sql import functions as F\n",
    "from pyspark.sql.types import *\n",
    "\n",
    "sc = SparkContext('local')\n",
    "spark = SparkSession(sc)"
   ]
  },
  {
   "cell_type": "markdown",
   "metadata": {},
   "source": [
    "## Meteorological Data for Bennett's Point, Ace Basin 2004"
   ]
  },
  {
   "cell_type": "code",
   "execution_count": 18,
   "metadata": {},
   "outputs": [],
   "source": [
    "data_sample = \"./input/raw/ACE Basin/meteorological/data/Bennett's Point/\"\n",
    "\n",
    "aceb04_data = spark.read.csv(data_sample + \"acebpmet2004.txt\",header=True)\n",
    "dropped_cols = [f for f in aceb04_data.columns if f[0] == 'F']\n",
    "aceb04_data = aceb04_data.drop(*dropped_cols)\n",
    "\n",
    "split_col = F.split(aceb04_data['DateTimeStamp'], '\\ ')\n",
    "aceb04_data = aceb04_data.withColumn('SMPLDATE', split_col.getItem(0)).withColumn('SMPLTIME', split_col.getItem(1))\n",
    "aceb04_data = aceb04_data.drop('DateTimeStamp')"
   ]
  },
  {
   "cell_type": "markdown",
   "metadata": {},
   "source": [
    "### Dimensions of 2004 data"
   ]
  },
  {
   "cell_type": "code",
   "execution_count": 19,
   "metadata": {},
   "outputs": [
    {
     "output_type": "stream",
     "name": "stdout",
     "text": "(43924, 28)\n"
    }
   ],
   "source": [
    "print((aceb04_data.count(), len(aceb04_data.columns)))"
   ]
  },
  {
   "cell_type": "markdown",
   "metadata": {},
   "source": [
    "## Meteorological Data for Bennett's Point, Ace Basin 2005"
   ]
  },
  {
   "cell_type": "code",
   "execution_count": 20,
   "metadata": {},
   "outputs": [],
   "source": [
    "aceb05_data = spark.read.option(\"header\", \"true\") \\\n",
    "    .option(\"delimiter\", \"\\t\") \\\n",
    "    .option(\"inferSchema\", \"true\") \\\n",
    "    .csv(data_sample + \"acebpmet2005.txt\")\n",
    "aceb05_data = aceb05_data.drop(*['STNCODE', 'USRCODES'])"
   ]
  },
  {
   "cell_type": "markdown",
   "metadata": {},
   "source": [
    "### Dimensions of 2005 data"
   ]
  },
  {
   "cell_type": "code",
   "execution_count": 21,
   "metadata": {},
   "outputs": [
    {
     "output_type": "stream",
     "name": "stdout",
     "text": "(44034, 28)\n"
    }
   ],
   "source": [
    "print((aceb05_data.count(), len(aceb05_data.columns)))"
   ]
  },
  {
   "cell_type": "markdown",
   "metadata": {},
   "source": [
    "## Meteorological Data for Bennett's Point, Ace Basin 2006"
   ]
  },
  {
   "cell_type": "code",
   "execution_count": 22,
   "metadata": {},
   "outputs": [],
   "source": [
    "aceb06_data = spark.read.option(\"header\", \"true\") \\\n",
    "    .option(\"delimiter\", \"\\t\") \\\n",
    "    .option(\"inferSchema\", \"true\") \\\n",
    "    .csv(data_sample + \"acebpmet2006.txt\")\n",
    "aceb06_data = aceb06_data.drop(*['STNCODE', 'USRCODES'])"
   ]
  },
  {
   "cell_type": "markdown",
   "metadata": {},
   "source": [
    "### Dimensions of 2006 data"
   ]
  },
  {
   "cell_type": "code",
   "execution_count": 23,
   "metadata": {},
   "outputs": [
    {
     "output_type": "stream",
     "name": "stdout",
     "text": "(39043, 28)\n"
    }
   ],
   "source": [
    "print((aceb06_data.count(), len(aceb06_data.columns)))"
   ]
  },
  {
   "cell_type": "markdown",
   "metadata": {},
   "source": [
    "## Compilation of ALL Meteorological Data for Bennett's Point, Ace Basin from 2004-2006"
   ]
  },
  {
   "cell_type": "code",
   "execution_count": 24,
   "metadata": {},
   "outputs": [],
   "source": [
    "acebmet_data = aceb06_data.union(aceb04_data).union(aceb05_data)\n",
    "acebmet_data.toPandas().to_csv(\"input/clean/agg/AceBasinMeteor_2004-2006.csv\")"
   ]
  },
  {
   "cell_type": "markdown",
   "metadata": {},
   "source": [
    "### Dimensions of All data"
   ]
  },
  {
   "cell_type": "code",
   "execution_count": 25,
   "metadata": {},
   "outputs": [
    {
     "output_type": "stream",
     "name": "stdout",
     "text": "(127001, 28)\n"
    }
   ],
   "source": [
    "print((acebmet_data.count(), len(acebmet_data.columns)))"
   ]
  },
  {
   "cell_type": "markdown",
   "metadata": {},
   "source": [
    "### Checking for Missing Data"
   ]
  },
  {
   "cell_type": "code",
   "execution_count": 26,
   "metadata": {},
   "outputs": [
    {
     "output_type": "stream",
     "name": "stdout",
     "text": "+-----+--------+--------+-----+-------+--------+-------+--------+---+-----+------+-----+------+---+-----+------+-----+------+----+----+------+-------+--------+-------+--------+-------+------+-------+\n|CLASS|SMPLDATE|SMPLTIME|ATemp|MaxTemp|MaxTempT|MinTemp|MinTempT| RH|MaxRH|MaxRHT|MinRH|MinRHT| BP|MaxBP|MaxBPT|MinBP|MinBPT|WSpd|Wdir|SDWDir|MaxWSpd|MaxWSpdT|MinWSpd|MinWSpdT|TotPrcp|TotPAR|AvgVolt|\n+-----+--------+--------+-----+-------+--------+-------+--------+---+-----+------+-----+------+---+-----+------+-----+------+----+----+------+-------+--------+-------+--------+-------+------+-------+\n|    0|       0|       0|    0|      0|       0|      0|       0|  0|    0|     0|    0|     0|  0|    0|     0|    0|     0|   0|   0|     0|      0|       0|      0|       0|      0|     0|      0|\n+-----+--------+--------+-----+-------+--------+-------+--------+---+-----+------+-----+------+---+-----+------+-----+------+----+----+------+-------+--------+-------+--------+-------+------+-------+\n\n"
    }
   ],
   "source": [
    "from pyspark.sql.functions import isnan, when, count, col\n",
    "acebmet_data.select([count(when(isnan(c), c)).alias(c) for c in acebmet_data.columns]).show()"
   ]
  },
  {
   "cell_type": "markdown",
   "metadata": {},
   "source": [
    "Here, we can see there are no missing values in our data."
   ]
  },
  {
   "cell_type": "markdown",
   "metadata": {},
   "source": [
    "### Checking for Duplicate Values"
   ]
  },
  {
   "cell_type": "code",
   "execution_count": 27,
   "metadata": {},
   "outputs": [
    {
     "output_type": "execute_result",
     "data": {
      "text/plain": "127001"
     },
     "metadata": {},
     "execution_count": 27
    }
   ],
   "source": [
    "acebmet_data.count()\n",
    "acebmet_data.distinct().count()"
   ]
  },
  {
   "cell_type": "markdown",
   "metadata": {},
   "source": [
    "Here, we can see that the number of distinct values is the same as the number of values overall. Thus, we do not have any duplicate values."
   ]
  },
  {
   "cell_type": "markdown",
   "metadata": {},
   "source": [
    "## Prototype for automated script to aggregate meterological data"
   ]
  },
  {
   "cell_type": "code",
   "execution_count": 33,
   "metadata": {
    "tags": [
     "outputPrepend",
     "outputPrepend"
    ]
   },
   "outputs": [
    {
     "output_type": "stream",
     "name": "stdout",
     "text": ".txt\n./input/raw/Hudson River/water quality/data/Saw Kill/hudskwq2006.txt\n./input/raw/Hudson River/water quality/data/Saw Kill/hudskwq2005.txt\n./input/raw/Hudson River/water quality/data/Saw Kill/hudskwq2004.txt\n./input/raw/Hudson River/water quality/data/Tivoli North Bay/hudtnwq2004.txt\n./input/raw/Hudson River/water quality/data/Tivoli North Bay/hudtnwq2005.txt\n./input/raw/Hudson River/water quality/data/Tivoli North Bay/hudtnwq2006.txt\n./input/raw/Hudson River/water quality/data/Tivoli South Bay/hudtswq2006.txt\n./input/raw/Hudson River/water quality/data/Tivoli South Bay/hudtswq2005.txt\n./input/raw/Hudson River/water quality/data/Tivoli South Bay/hudtswq2004.txt\n./input/raw/Hudson River/water quality/data/Stony Creek/hudscwq2005.txt\n./input/raw/Hudson River/water quality/data/Stony Creek/hudscwq2004.txt\n./input/raw/Hudson River/water quality/data/Stony Creek/hudscwq2006.txt\n./input/raw/Hudson River/water quality/metadata/hudwq03-12.06m.doc\n./input/raw/Hudson River/water quality/metadata/hudwq03-12.04m.xml\n./input/raw/Hudson River/water quality/metadata/hudwq03-12.05m.doc\n./input/raw/Hudson River/water quality/metadata/hudwq03-12.04m.doc\n./input/raw/Great Bay/nutrient/data/grbnut2006.txt\n./input/raw/Great Bay/nutrient/data/grbnut2005.txt\n./input/raw/Great Bay/nutrient/data/grbnut2004.txt\n./input/raw/Great Bay/nutrient/data/Nutrient_Readme.txt\n./input/raw/Great Bay/nutrient/metadata/grbnut03-12.06m.doc\n./input/raw/Great Bay/nutrient/metadata/grbnut04-12.05m.doc\n./input/raw/Great Bay/nutrient/metadata/grbnut04-12.04m.doc\n./input/raw/Great Bay/meteorological/data/Great Bay/grbgbmet2005.txt\n./input/raw/Great Bay/meteorological/data/Great Bay/grbgbmet2004.txt\n./input/raw/Great Bay/meteorological/data/Great Bay/Weather_Readme.txt\n./input/raw/Great Bay/meteorological/data/Greenland/grbglmet2006.txt\n./input/raw/Great Bay/meteorological/data/Greenland/grbglmet2005.txt\n./input/raw/Great Bay/meteorological/metadata/grbmet01-12.05m.doc\n./input/raw/Great Bay/meteorological/metadata/grbmet01-12.04m.doc\n./input/raw/Great Bay/meteorological/metadata/grbmet01-12.06m.doc\n./input/raw/Great Bay/meteorological/metadata/grbmet01-12.04m.xml\n./input/raw/Great Bay/water quality/data/Water_Quality_Readme.txt\n./input/raw/Great Bay/water quality/data/Lamprey River/grblrwq2006.txt\n./input/raw/Great Bay/water quality/data/Lamprey River/grblrwq2005.txt\n./input/raw/Great Bay/water quality/data/Lamprey River/grblrwq2004.txt\n./input/raw/Great Bay/water quality/data/Oyster River/grborwq2006.txt\n./input/raw/Great Bay/water quality/data/Oyster River/grborwq2004.txt\n./input/raw/Great Bay/water quality/data/Oyster River/grborwq2005.txt\n./input/raw/Great Bay/water quality/data/Great Bay/grbgbwq2006.txt\n./input/raw/Great Bay/water quality/data/Great Bay/grbgbwq2005.txt\n./input/raw/Great Bay/water quality/data/Great Bay/grbgbwq2004.txt\n./input/raw/Great Bay/water quality/data/Squamscott River/grbsqwq2006.txt\n./input/raw/Great Bay/water quality/data/Squamscott River/grbsqwq2005.txt\n./input/raw/Great Bay/water quality/data/Squamscott River/grbsqwq2004.txt\n./input/raw/Great Bay/water quality/metadata/grbwq04-12.04m.xml\n./input/raw/Great Bay/water quality/metadata/grbwq03-12.06m.doc\n./input/raw/Great Bay/water quality/metadata/grbwq04-12.05m.doc\n./input/raw/Great Bay/water quality/metadata/grbwq04-12.04m.doc\n./input/raw/San Francisco Bay/meteorological/data/Rush Ranch/sfbrrmet2006.txt\n./input/raw/San Francisco Bay/meteorological/metadata/sfbmet08-12.06m.doc\n./input/raw/San Francisco Bay/water quality/data/Gallinas Creek/sfbgcwq2006.txt\n./input/raw/San Francisco Bay/water quality/data/China Camp/sfbccwq2006.txt\n./input/raw/San Francisco Bay/water quality/metadata/sfbwq01-12.06m.doc\n./input/raw/Weeks Bay/.DS_Store\n./input/raw/Weeks Bay/nutrient/data/Nutrient_Readme.txt\n./input/raw/Weeks Bay/nutrient/data/wkbnut2006.txt\n./input/raw/Weeks Bay/nutrient/data/wkbnut2004.txt\n./input/raw/Weeks Bay/nutrient/data/wkbnut2005.txt\n./input/raw/Weeks Bay/nutrient/metadata/wkbnut01-12.06m.doc\n./input/raw/Weeks Bay/nutrient/metadata/wkbnut01-12.04m.doc\n./input/raw/Weeks Bay/nutrient/metadata/wkbnut01-12.05m.doc\n./input/raw/Weeks Bay/meteorological/data/Weeks Bay/wkbwbmet2005.txt\n./input/raw/Weeks Bay/meteorological/data/Weeks Bay/wkbwbmet2006.txt\n./input/raw/Weeks Bay/meteorological/data/Weeks Bay/wqbwbmet2004.txt\n./input/raw/Weeks Bay/meteorological/data/Weeks Bay/Weather_Readme.txt\n./input/raw/Weeks Bay/meteorological/metadata/wkbmet01-12.05m.doc\n./input/raw/Weeks Bay/meteorological/metadata/wkbmet01-12.04m.doc\n./input/raw/Weeks Bay/meteorological/metadata/wkbmet01-12.04m.xml\n./input/raw/Weeks Bay/meteorological/metadata/wkbmet01-12.06m.doc\n./input/raw/Weeks Bay/water quality/.DS_Store\n./input/raw/Weeks Bay/water quality/data/.DS_Store\n./input/raw/Weeks Bay/water quality/data/Water_Quality_Readme.txt\n./input/raw/Weeks Bay/water quality/data/Magnolia River/wkbmrwq2006.txt\n./input/raw/Weeks Bay/water quality/data/Magnolia River/wkbmrwq2005.txt\n./input/raw/Weeks Bay/water quality/data/Magnolia River/wkbmrwq2004.txt\n./input/raw/Weeks Bay/water quality/data/Middle Bay/wkbmbwq2006.txt\n./input/raw/Weeks Bay/water quality/data/Middle Bay/wkbmbwq2004.txt\n./input/raw/Weeks Bay/water quality/data/Middle Bay/wkbmbwq2005.txt\n./input/raw/Weeks Bay/water quality/data/Fish River/wkbfrwq2006.txt\n./input/raw/Weeks Bay/water quality/data/Fish River/wkbfrwq2004.txt\n./input/raw/Weeks Bay/water quality/data/Fish River/wkbfrwq2005.txt\n./input/raw/Weeks Bay/water quality/data/Weeks Bay/wkbwbwq2005.txt\n./input/raw/Weeks Bay/water quality/data/Weeks Bay/wkbwbwq2004.txt\n./input/raw/Weeks Bay/water quality/data/Weeks Bay/wkbwbwq2006.txt\n./input/raw/Weeks Bay/water quality/metadata/wkbwq01-12.04m.doc\n./input/raw/Weeks Bay/water quality/metadata/wkbwq01-12.05m.doc\n./input/raw/Weeks Bay/water quality/metadata/wkbwq01-12.06m.doc\n./input/raw/Weeks Bay/water quality/metadata/wkbwq01-12.04m.xml\n./input/raw/Chesapeake Bay, MD/nutrient/data/Nutrient_Readme.txt\n./input/raw/Chesapeake Bay, MD/nutrient/data/cbmnut2006.txt\n./input/raw/Chesapeake Bay, MD/nutrient/data/cbmnut2005.txt\n./input/raw/Chesapeake Bay, MD/nutrient/data/cbmnut2004.txt\n./input/raw/Chesapeake Bay, MD/nutrient/metadata/cbmnut01-12.06m.doc\n./input/raw/Chesapeake Bay, MD/nutrient/metadata/cbmnut02-12.04m.doc\n./input/raw/Chesapeake Bay, MD/nutrient/metadata/cbmnut01-12.05m.doc\n./input/raw/Chesapeake Bay, MD/nutrient/metadata/cbmnut02-12.04m.xml\n./input/raw/Chesapeake Bay, MD/meteorological/data/Jug Bay/cbmjbmet2005.txt\n./input/raw/Chesapeake Bay, MD/meteorological/data/Jug Bay/cbmjbmet2004.txt\n./input/raw/Chesapeake Bay, MD/meteorological/data/Jug Bay/cbmjbmet2006.txt\n./input/raw/Chesapeake Bay, MD/meteorological/data/Jug Bay/Weather_Readme.txt\n./input/raw/Chesapeake Bay, MD/meteorological/metadata/CBMMET01-12.05m.doc\n./input/raw/Chesapeake Bay, MD/meteorological/metadata/CBMMET01-12.04m.doc\n./input/raw/Chesapeake Bay, MD/meteorological/metadata/CBMMET01-12.06m.doc\n./input/raw/Chesapeake Bay, MD/meteorological/metadata/CBMMET01-12.04m.xml\n./input/raw/Chesapeake Bay, MD/water quality/data/Water_Quality_Readme.txt\n./input/raw/Chesapeake Bay, MD/water quality/data/Mataponi Creek/cbmmcwq2005.txt\n./input/raw/Chesapeake Bay, MD/water quality/data/Mataponi Creek/cbmmcwq2004.txt\n./input/raw/Chesapeake Bay, MD/water quality/data/Mataponi Creek/cbmmcwq2006.txt\n./input/raw/Chesapeake Bay, MD/water quality/data/Otter Point Creek/cbmocwq2004.txt\n./input/raw/Chesapeake Bay, MD/water quality/data/Otter Point Creek/cbmocwq2005.txt\n./input/raw/Chesapeake Bay, MD/water quality/data/Otter Point Creek/cbmocwq2006.txt\n./input/raw/Chesapeake Bay, MD/water quality/data/Iron Pot Landing/cbmipwq2006.txt\n./input/raw/Chesapeake Bay, MD/water quality/data/Iron Pot Landing/cbmipwq2005.txt\n./input/raw/Chesapeake Bay, MD/water quality/data/Iron Pot Landing/cbmipwq2004.txt\n./input/raw/Chesapeake Bay, MD/water quality/data/Railroad/cbmrrwq2005.txt\n./input/raw/Chesapeake Bay, MD/water quality/data/Railroad/cbmrrwq2004.txt\n./input/raw/Chesapeake Bay, MD/water quality/data/Railroad/cbmrrwq2006.txt\n./input/raw/Chesapeake Bay, MD/water quality/metadata/cbmwq01-12.04m.doc\n./input/raw/Chesapeake Bay, MD/water quality/metadata/cbmwq01-12.05m.doc\n./input/raw/Chesapeake Bay, MD/water quality/metadata/cbmwq01-12.04m.xml\n./input/raw/Chesapeake Bay, MD/water quality/metadata/cbmwq01-12.06m.doc\n./input/raw/North Carolina/nutrient/data/Nutrient_Readme.txt\n./input/raw/North Carolina/nutrient/data/nocnut2004.txt\n./input/raw/North Carolina/nutrient/data/nocnut2005.txt\n./input/raw/North Carolina/nutrient/data/nocnut2006.txt\n./input/raw/North Carolina/nutrient/metadata/nocnut01-12.04m.xml\n./input/raw/North Carolina/nutrient/metadata/nocnut01-12.06m.doc\n./input/raw/North Carolina/nutrient/metadata/nocnut01-12.04m.doc\n./input/raw/North Carolina/nutrient/metadata/nocnut01-12.05m.doc\n./input/raw/North Carolina/meteorological/data/Research Creek/nocrcmet2005.txt\n./input/raw/North Carolina/meteorological/data/Research Creek/nocrcmet2004.txt\n./input/raw/North Carolina/meteorological/data/Research Creek/nocrcmet2006.txt\n./input/raw/North Carolina/meteorological/data/Research Creek/Weather_Readme.txt\n./input/raw/North Carolina/meteorological/metadata/nocmet01-12.05m.doc\n./input/raw/North Carolina/meteorological/metadata/nocmet01-12.04m.doc\n./input/raw/North Carolina/meteorological/metadata/nocmet01-12.04m.xml\n./input/raw/North Carolina/meteorological/metadata/nocmet01-12.06m.doc\n./input/raw/North Carolina/water quality/data/Water_Quality_Readme.txt\n./input/raw/North Carolina/water quality/data/Research Creek/nocrcwq2006.txt\n./input/raw/North Carolina/water quality/data/Research Creek/nocrcwq2005.txt\n./input/raw/North Carolina/water quality/data/Research Creek/nocrcwq2004.txt\n./input/raw/North Carolina/water quality/data/Loosin Creek/noclcwq2006.txt\n./input/raw/North Carolina/water quality/data/Loosin Creek/noclcwq2004.txt\n./input/raw/North Carolina/water quality/data/Loosin Creek/noclcwq2005.txt\n./input/raw/North Carolina/water quality/data/East Cribbing/nocecwq2006.txt\n./input/raw/North Carolina/water quality/data/East Cribbing/nocecwq2004.txt\n./input/raw/North Carolina/water quality/data/East Cribbing/nocecwq2005.txt\n./input/raw/North Carolina/water quality/data/Zeke's Basin/noczbwq2006.txt\n./input/raw/North Carolina/water quality/data/Zeke's Basin/noczbwq2005.txt\n./input/raw/North Carolina/water quality/data/Zeke's Basin/noczbwq2004.txt\n./input/raw/North Carolina/water quality/metadata/nocwq01-12.04m.doc\n./input/raw/North Carolina/water quality/metadata/nocwq01-12.05m.doc\n./input/raw/North Carolina/water quality/metadata/nocwq01-12.04m.xml\n./input/raw/North Carolina/water quality/metadata/nocwq01-12.06m.doc\n./input/raw/Narragansett Bay/nutrient/data/narnut2006.txt\n./input/raw/Narragansett Bay/nutrient/data/narnut2004.txt\n./input/raw/Narragansett Bay/nutrient/data/narnut2005.txt\n./input/raw/Narragansett Bay/nutrient/data/Nutrient_Readme.txt\n./input/raw/Narragansett Bay/nutrient/metadata/narnut01-12.05m.doc\n./input/raw/Narragansett Bay/nutrient/metadata/narnut01-12.04m.doc\n./input/raw/Narragansett Bay/nutrient/metadata/narnut01-12.06m.doc\n./input/raw/Narragansett Bay/meteorological/data/Potters Cove/narpcmet2006.txt\n./input/raw/Narragansett Bay/meteorological/data/Potters Cove/narpcmet2005.txt\n./input/raw/Narragansett Bay/meteorological/data/Potters Cove/narpcmet2004.txt\n./input/raw/Narragansett Bay/meteorological/data/Potters Cove/Weather_Readme.txt\n./input/raw/Narragansett Bay/meteorological/metadata/narmet01-12.06m.doc\n./input/raw/Narragansett Bay/meteorological/metadata/narmet01-12.04m.xml\n./input/raw/Narragansett Bay/meteorological/metadata/narmet01-12.04m.doc\n./input/raw/Narragansett Bay/meteorological/metadata/narmet01-12.05m.doc\n./input/raw/Narragansett Bay/water quality/data/Water_Quality_Readme.txt\n./input/raw/Narragansett Bay/water quality/data/T-Wharf Surface/nartswq2006.txt\n./input/raw/Narragansett Bay/water quality/data/T-Wharf Surface/nartswq2004.txt\n./input/raw/Narragansett Bay/water quality/data/T-Wharf Surface/nartswq2005.txt\n./input/raw/Narragansett Bay/water quality/data/Nag Creek/narncwq2004.txt\n./input/raw/Narragansett Bay/water quality/data/Nag Creek/narncwq2005.txt\n./input/raw/Narragansett Bay/water quality/data/Nag Creek/narncwq2006.txt\n./input/raw/Narragansett Bay/water quality/data/Potters Cove/narpcwq2005.txt\n./input/raw/Narragansett Bay/water quality/data/Potters Cove/narpcwq2004.txt\n./input/raw/Narragansett Bay/water quality/data/Potters Cove/narpcwq2006.txt\n./input/raw/Narragansett Bay/water quality/data/T-Wharf Bottom/nartbwq2006.txt\n./input/raw/Narragansett Bay/water quality/data/T-Wharf Bottom/nartbwq2005.txt\n./input/raw/Narragansett Bay/water quality/data/T-Wharf Bottom/nartbwq2004.txt\n./input/raw/Narragansett Bay/water quality/metadata/narwq01-12.06m.doc\n./input/raw/Narragansett Bay/water quality/metadata/narwq01-12.04m.xml\n./input/raw/Narragansett Bay/water quality/metadata/narwq01-12.05m.doc\n./input/raw/Narragansett Bay/water quality/metadata/narwq01-12.04m.doc\n./input/raw/Waquoit Bay/nutrient/data/Nutrient_Readme.txt\n./input/raw/Waquoit Bay/nutrient/data/wqbnut2005.txt\n./input/raw/Waquoit Bay/nutrient/data/wqbnut2004.txt\n./input/raw/Waquoit Bay/nutrient/data/wqbnut2006.txt\n./input/raw/Waquoit Bay/nutrient/metadata/wqbnut01-12.06m.doc\n./input/raw/Waquoit Bay/nutrient/metadata/wqbnut01-12.05m.doc\n./input/raw/Waquoit Bay/nutrient/metadata/wqbnut01-12.04m.doc\n./input/raw/Waquoit Bay/meteorological/data/Carriage House/wqbchmet2006.txt\n./input/raw/Waquoit Bay/meteorological/data/Carriage House/wqbchmet2004.txt\n./input/raw/Waquoit Bay/meteorological/data/Carriage House/wqbwbmet2005.txt\n./input/raw/Waquoit Bay/meteorological/data/Carriage House/Weather_Readme.txt\n./input/raw/Waquoit Bay/meteorological/metadata/wqbmet01-12.04m.doc\n./input/raw/Waquoit Bay/meteorological/metadata/wqbmet01-12.04m.xml\n./input/raw/Waquoit Bay/meteorological/metadata/wqbmet01-12.06m.doc\n./input/raw/Waquoit Bay/meteorological/metadata/wqbchmet 01-12.05m.doc\n./input/raw/Waquoit Bay/water quality/data/Water_Quality_Readme.txt\n./input/raw/Waquoit Bay/water quality/data/Menauhant/wqbmhwq2006.txt\n./input/raw/Waquoit Bay/water quality/data/Menauhant/wqbmhwq2005.txt\n./input/raw/Waquoit Bay/water quality/data/Menauhant/wqbmhwq2004.txt\n./input/raw/Waquoit Bay/water quality/data/Childs River/wqbcrwq2006.txt\n./input/raw/Waquoit Bay/water quality/data/Childs River/wqbcrwq2004.txt\n./input/raw/Waquoit Bay/water quality/data/Childs River/wqbcrwq2005.txt\n./input/raw/Waquoit Bay/water quality/data/Metoxit Point/wqbmpwq2004.txt\n./input/raw/Waquoit Bay/water quality/data/Metoxit Point/wqbmpwq2005.txt\n./input/raw/Waquoit Bay/water quality/data/Metoxit Point/wqbmpwq2006.txt\n./input/raw/Waquoit Bay/water quality/data/Sage Lot/wqbslwq2006.txt\n./input/raw/Waquoit Bay/water quality/data/Sage Lot/wqbslwq2004.txt\n./input/raw/Waquoit Bay/water quality/data/Sage Lot/wqbslwq2005.txt\n./input/raw/Waquoit Bay/water quality/metadata/wqbwq01-12.04m.doc\n./input/raw/Waquoit Bay/water quality/metadata/wqbwq01-12.05m.doc\n./input/raw/Waquoit Bay/water quality/metadata/wqbwq01-12.06m.doc\n./input/raw/Waquoit Bay/water quality/metadata/wqbwq01-12.04m.xml\n./input/raw/Apalachicola/nutrient/data/apanut2006.txt\n./input/raw/Apalachicola/nutrient/data/apanut2005.txt\n./input/raw/Apalachicola/nutrient/data/apanut2004.txt\n./input/raw/Apalachicola/nutrient/data/Nutrient_Readme.txt\n./input/raw/Apalachicola/nutrient/metadata/apanut01-12.06m.doc\n./input/raw/Apalachicola/nutrient/metadata/apanut01-12.04m.xml\n./input/raw/Apalachicola/nutrient/metadata/apanut01-12.04m.doc\n./input/raw/Apalachicola/nutrient/metadata/apanut01-12.05m.doc\n./input/raw/Apalachicola/meteorological/data/East Bay/apaebmet2006.txt\n./input/raw/Apalachicola/meteorological/data/East Bay/apaebmet2004.txt\n./input/raw/Apalachicola/meteorological/data/East Bay/apaebmet2005.txt\n./input/raw/Apalachicola/meteorological/data/East Bay/Weather_Readme.txt\n./input/raw/Apalachicola/meteorological/metadata/apamet01-12.05m.doc\n./input/raw/Apalachicola/meteorological/metadata/apamet01-12.04m.doc\n./input/raw/Apalachicola/meteorological/metadata/apamet01-12.06m.doc\n./input/raw/Apalachicola/meteorological/metadata/apamet01-12.04m.xml\n./input/raw/Apalachicola/water quality/data/Water_Quality_Readme.txt\n./input/raw/Apalachicola/water quality/data/Cat Point/apacpwq2004.txt\n./input/raw/Apalachicola/water quality/data/Cat Point/apacpwq2005.txt\n./input/raw/Apalachicola/water quality/data/Cat Point/apacpwq2006.txt\n./input/raw/Apalachicola/water quality/data/Dry Bar/apadbwq2006.txt\n./input/raw/Apalachicola/water quality/data/Dry Bar/apadbwq2005.txt\n./input/raw/Apalachicola/water quality/data/Dry Bar/apadbwq2004.txt\n./input/raw/Apalachicola/water quality/data/East Bay Bottom/apaebwq2006.txt\n./input/raw/Apalachicola/water quality/data/East Bay Bottom/apaebwq2005.txt\n./input/raw/Apalachicola/water quality/data/East Bay Bottom/apaebwq2004.txt\n./input/raw/Apalachicola/water quality/data/East Bay Surface/apaeswq2006.txt\n./input/raw/Apalachicola/water quality/data/East Bay Surface/apaeswq2004.txt\n./input/raw/Apalachicola/water quality/data/East Bay Surface/apaeswq2005.txt\n./input/raw/Apalachicola/water quality/metadata/apawq01-12.06m.doc\n./input/raw/Apalachicola/water quality/metadata/apawq01-12.05m.doc\n./input/raw/Apalachicola/water quality/metadata/apawq01-12.04m.doc\n./input/raw/North Inlet Winyah Bay/nutrient/data/Nutrient_Readme.txt\n./input/raw/North Inlet Winyah Bay/nutrient/data/niwnut2005.txt\n./input/raw/North Inlet Winyah Bay/nutrient/data/niwnut2004.txt\n./input/raw/North Inlet Winyah Bay/nutrient/data/niwnut2006.txt\n./input/raw/North Inlet Winyah Bay/nutrient/metadata/niwnut01-12.04m.doc\n./input/raw/North Inlet Winyah Bay/nutrient/metadata/niwnut01-12.05m.doc\n./input/raw/North Inlet Winyah Bay/nutrient/metadata/niwnut01-12.06m.doc\n./input/raw/North Inlet Winyah Bay/nutrient/metadata/niwnut01-12.04m.xml\n./input/raw/North Inlet Winyah Bay/meteorological/data/Oyster Landing/niwolmet2005.txt\n./input/raw/North Inlet Winyah Bay/meteorological/data/Oyster Landing/niwolmet2004.txt\n./input/raw/North Inlet Winyah Bay/meteorological/data/Oyster Landing/niwolmet2006.txt\n./input/raw/North Inlet Winyah Bay/meteorological/data/Oyster Landing/Weather_Readme.txt\n./input/raw/North Inlet Winyah Bay/meteorological/metadata/niwmet01-12.06m.doc\n./input/raw/North Inlet Winyah Bay/meteorological/metadata/niwmet01-12.04m.xml\n./input/raw/North Inlet Winyah Bay/meteorological/metadata/niwmet01-12.05m.doc\n./input/raw/North Inlet Winyah Bay/meteorological/metadata/niwmet01-12.04m.doc\n./input/raw/North Inlet Winyah Bay/water quality/data/Water_Quality_Readme.txt\n./input/raw/North Inlet Winyah Bay/water quality/data/Clambank/niwcbwq2006.txt\n./input/raw/North Inlet Winyah Bay/water quality/data/Clambank/niwcbwq2005.txt\n./input/raw/North Inlet Winyah Bay/water quality/data/Clambank/niwcbwq2004.txt\n./input/raw/North Inlet Winyah Bay/water quality/data/Thousand Acre/niwtawq2006.txt\n./input/raw/North Inlet Winyah Bay/water quality/data/Thousand Acre/niwtawq2005.txt\n./input/raw/North Inlet Winyah Bay/water quality/data/Thousand Acre/niwtawq2004.txt\n./input/raw/North Inlet Winyah Bay/water quality/data/Debidue Creek/niwdcwq2004.txt\n./input/raw/North Inlet Winyah Bay/water quality/data/Debidue Creek/niwdcwq2005.txt\n./input/raw/North Inlet Winyah Bay/water quality/data/Debidue Creek/niwdcwq2006.txt\n./input/raw/North Inlet Winyah Bay/water quality/data/Oyster Landing/niwolwq2006.txt\n./input/raw/North Inlet Winyah Bay/water quality/data/Oyster Landing/niwolwq2004.txt\n./input/raw/North Inlet Winyah Bay/water quality/data/Oyster Landing/niwolwq2005.txt\n./input/raw/North Inlet Winyah Bay/water quality/metadata/niwwq01-12.06m.doc\n./input/raw/North Inlet Winyah Bay/water quality/metadata/niwwq01-12.04m.xml\n./input/raw/North Inlet Winyah Bay/water quality/metadata/niwwq01-12.05m.doc\n./input/raw/North Inlet Winyah Bay/water quality/metadata/niwwq01-12.04m.doc\n"
    }
   ],
   "source": [
    "import os\n",
    "rootdir = './input/raw'\n",
    "\n",
    "for subdir, dirs, files in os.walk(rootdir):\n",
    "    for file in files:\n",
    "        print(os.path.join(subdir, file))"
   ]
  },
  {
   "cell_type": "code",
   "execution_count": null,
   "metadata": {},
   "outputs": [],
   "source": []
  }
 ],
 "metadata": {
  "kernelspec": {
   "display_name": "Python 3.7.4 64-bit ('base': conda)",
   "language": "python",
   "name": "python37464bitbaseconda36d8fccebcaa41dba6e21681695b9207"
  },
  "language_info": {
   "codemirror_mode": {
    "name": "ipython",
    "version": 3
   },
   "file_extension": ".py",
   "mimetype": "text/x-python",
   "name": "python",
   "nbconvert_exporter": "python",
   "pygments_lexer": "ipython3",
   "version": "3.7.4-final"
  }
 },
 "nbformat": 4,
 "nbformat_minor": 4
}