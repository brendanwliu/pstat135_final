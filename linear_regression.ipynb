{
 "cells": [
  {
   "cell_type": "code",
   "execution_count": 1,
   "metadata": {},
   "outputs": [],
   "source": [
    "import os, glob\n",
    "import pandas as pd\n",
    "import numpy as np\n",
    "from pyspark import SparkContext\n",
    "from pyspark.sql import SQLContext, SparkSession\n",
    "from pyspark.sql import functions as F\n",
    "from pyspark.sql.types import *\n",
    "from pyspark.ml.feature import RFormula\n",
    "\n",
    "%matplotlib inline\n",
    "import matplotlib\n",
    "import matplotlib.pyplot as plt \n",
    "import seaborn as sns\n",
    "sns.set(font_scale=1.5, rc={'text.usetex' : True})\n",
    "\n",
    "sc = SparkContext('local')\n",
    "spark = SparkSession(sc)\n",
    "\n",
    "path = \"./input/clean/training_data/\""
   ]
  },
  {
   "cell_type": "code",
   "execution_count": 2,
   "metadata": {},
   "outputs": [
    {
     "name": "stdout",
     "output_type": "stream",
     "text": [
      "+------------------+------------------+------------------+-----------------+-----------------+-----------------+------------------+------------------+------------------+------------------+------------------+------------------+------------------+-------------------+--------------------+------------------+------------------+------------------+\n",
      "|             ATemp|           MaxTemp|           MinTemp|               RH|            MaxRH|            MinRH|                BP|             MaxBP|             MinBP|              WSpd|              Wdir|            SDWDir|           MaxWSpd|            MinWSpd|             TotPrcp|            TotPAR|           AvgVolt|              Temp|\n",
      "+------------------+------------------+------------------+-----------------+-----------------+-----------------+------------------+------------------+------------------+------------------+------------------+------------------+------------------+-------------------+--------------------+------------------+------------------+------------------+\n",
      "| 8.296874999999998| 8.633333333333333|          7.971875|71.97916666666667|74.14583333333333|         69.71875|           1027.75|        1028.96875|1027.5833333333333|1.3093750000000004|249.76041666666666|             17.25|2.3927083333333328|0.43541666666666656|                 0.0|204.30624999999995|13.016666666666666|10.641145833333328|\n",
      "|11.064583333333331|11.410416666666663|10.726041666666669|71.29166666666667|73.47916666666667|68.89583333333333|1024.4583333333333|        1025.78125|1024.2708333333333|1.7385416666666673|249.57291666666666|16.197916666666668|3.0718750000000004| 0.6895833333333332|0.003124999999999...|173.65000000000006|12.969791666666666|11.089062499999999|\n",
      "|15.534374999999997|15.804166666666665|15.269791666666672|          71.1875|         72.21875|         70.21875|            1021.5|1022.5520833333334|1021.1770833333334|            3.0625|         243.15625|12.020833333333334| 5.442708333333333| 1.2510416666666666|                 0.0|205.38749999999993|12.962499999999999|12.167708333333321|\n",
      "|19.130208333333332|19.364583333333332|18.907291666666655|         74.09375|         74.96875|73.23958333333333|1019.2395833333334|1020.2291666666666|1019.0833333333334|3.7354166666666675|236.16666666666666|          12.96875| 7.070833333333334|  1.435416666666667|                 0.0|182.80312500000005|12.883333333333338|13.960937499999993|\n",
      "|19.667708333333334|19.879166666666663|19.453124999999993|          84.5625|85.16666666666667|83.88541666666667|           1015.25|         1016.4375|         1014.9375| 5.346875000000001|233.16666666666666|          13.65625|10.288541666666669| 1.9677083333333332|                 0.0| 204.1947916666666|12.938541666666664|15.548437499999999|\n",
      "+------------------+------------------+------------------+-----------------+-----------------+-----------------+------------------+------------------+------------------+------------------+------------------+------------------+------------------+-------------------+--------------------+------------------+------------------+------------------+\n",
      "only showing top 5 rows\n",
      "\n"
     ]
    }
   ],
   "source": [
    "NC_data = spark.read.csv(path + \"NOAA_NC_DAvg_training_data.csv\", header=True, inferSchema=True)\n",
    "NC_data = NC_data.drop(*[t for t in NC_data.columns if t[-1] == 'T']+['date','CLASS'])\n",
    "NC_data.show(5)"
   ]
  },
  {
   "cell_type": "code",
   "execution_count": 3,
   "metadata": {},
   "outputs": [
    {
     "name": "stdout",
     "output_type": "stream",
     "text": [
      "+--------------------+------------------+\n",
      "|            features|             label|\n",
      "+--------------------+------------------+\n",
      "|[8.29687499999999...|10.641145833333328|\n",
      "|[11.0645833333333...|11.089062499999999|\n",
      "|[15.5343749999999...|12.167708333333321|\n",
      "|[19.1302083333333...|13.960937499999993|\n",
      "|[19.6677083333333...|15.548437499999999|\n",
      "+--------------------+------------------+\n",
      "only showing top 5 rows\n",
      "\n"
     ]
    }
   ],
   "source": [
    "# vector of features\n",
    "rf = RFormula(formula=\"Temp~.\")\n",
    "vector_rf = rf.fit(NC_data).transform(NC_data).select([\"features\",\"label\"])\n",
    "vector_rf.show(5)"
   ]
  },
  {
   "cell_type": "code",
   "execution_count": 4,
   "metadata": {},
   "outputs": [
    {
     "name": "stdout",
     "output_type": "stream",
     "text": [
      "+--------------------+------------------+--------------------+\n",
      "|            features|             label|      scaledFeatures|\n",
      "+--------------------+------------------+--------------------+\n",
      "|[8.29687499999999...|10.641145833333328|[1.05959159298474...|\n",
      "|[11.0645833333333...|11.089062499999999|[1.41305485256546...|\n",
      "|[15.5343749999999...|12.167708333333321|[1.98389070008556...|\n",
      "|[19.1302083333333...|13.960937499999993|[2.44311357252540...|\n",
      "|[19.6677083333333...|15.548437499999999|[2.51175754766415...|\n",
      "|[9.70416666666666...|13.901562500000011|[1.23931641936545...|\n",
      "|[1.26770833333333...| 9.498437499999998|[0.16189867779817...|\n",
      "|[2.97708333333333...|  8.69322916666667|[0.38020248245453...|\n",
      "|[2.93437499999999...| 8.937500000000002|[0.37474821311211...|\n",
      "|[-0.6145833333333...| 6.936458333333337|[-0.0784882661470...|\n",
      "+--------------------+------------------+--------------------+\n",
      "only showing top 10 rows\n",
      "\n"
     ]
    }
   ],
   "source": [
    "# normalizing data for improved learning algorithms\n",
    "from pyspark.mllib.util import MLUtils \n",
    "from pyspark.ml.feature import StandardScaler\n",
    "\n",
    "scaler = StandardScaler(inputCol=\"features\", outputCol=\"scaledFeatures\")\n",
    "scaled_model = scaler.fit(vector_rf)\n",
    "NC_scaled = scaled_model.transform(vector_rf)\n",
    "NC_scaled.show(10)"
   ]
  },
  {
   "cell_type": "code",
   "execution_count": 5,
   "metadata": {},
   "outputs": [],
   "source": [
    "# splitting data into train and test set\n",
    "train,test = NC_scaled.randomSplit([0.80,0.20],42069)"
   ]
  },
  {
   "cell_type": "code",
   "execution_count": 6,
   "metadata": {},
   "outputs": [
    {
     "name": "stdout",
     "output_type": "stream",
     "text": [
      "Coefficients: [2.3172461229558645,2.2528419614083925,2.385091799974504,-0.03417534872192436,0.49424116151261077,-0.501761113157687,0.15961115107433546,0.008353893296827465,0.24912926948887834,1.0150396791218184,0.31912254373916465,0.6238241508857439,-0.825705622218722,-0.31622919987604137,0.2627996998679184,0.42398423748813063,-0.3911640078585115]\n",
      "Intercept: -37.60975474403549\n"
     ]
    }
   ],
   "source": [
    "from pyspark.ml.regression import LinearRegression, GeneralizedLinearRegression\n",
    "\n",
    "glr = GeneralizedLinearRegression(family=\"gaussian\", link=\"identity\", featuresCol=\"scaledFeatures\", maxIter=10, regParam=0.3)\n",
    "gl_model = glr.fit(train)\n",
    "print(\"Coefficients: \"+ str(gl_model.coefficients))\n",
    "print(\"Intercept: \"+ str(gl_model.intercept))"
   ]
  },
  {
   "cell_type": "code",
   "execution_count": 7,
   "metadata": {},
   "outputs": [
    {
     "data": {
      "text/plain": [
       "2.061670244376662"
      ]
     },
     "execution_count": 7,
     "metadata": {},
     "output_type": "execute_result"
    }
   ],
   "source": [
    "from pyspark.ml.evaluation import RegressionEvaluator\n",
    "gl_pred = gl_model.transform(test)\n",
    "gl_eval = RegressionEvaluator(predictionCol = \"prediction\", labelCol=\"label\", metricName = \"rmse\")\n",
    "gl_eval.evaluate(gl_pred)"
   ]
  },
  {
   "cell_type": "code",
   "execution_count": 8,
   "metadata": {},
   "outputs": [
    {
     "name": "stdout",
     "output_type": "stream",
     "text": [
      "Coefficients: [2.3078156696181065,2.301896831440173,2.314285041734375,0.0,0.0,0.0,0.08824384798475148,0.01030631029270439,0.09034128917850191,0.0,0.059050604277547304,0.34167487223519155,-0.04639857174743558,0.0,0.0,0.0,-0.04152583774501742]\n",
      "Intercept: -24.584058581248303\n"
     ]
    }
   ],
   "source": [
    "# lasso regression\n",
    "lasso = LinearRegression(featuresCol='scaledFeatures', labelCol='label', maxIter=10, regParam=.2, elasticNetParam=1)\n",
    "lasso_model = lasso.fit(train)\n",
    "sns.set(font_scale=1.5, rc={'text.usetex' : True})\n",
    "print(\"Coefficients: \"+ str(lasso_model.coefficients))\n",
    "print(\"Intercept: \"+ str(lasso_model.intercept))"
   ]
  },
  {
   "cell_type": "code",
   "execution_count": 9,
   "metadata": {},
   "outputs": [
    {
     "data": {
      "text/plain": [
       "2.150451915194875"
      ]
     },
     "execution_count": 9,
     "metadata": {},
     "output_type": "execute_result"
    }
   ],
   "source": [
    "lasso_pred = lasso_model.transform(test)\n",
    "lasso_eval = RegressionEvaluator(predictionCol = \"prediction\", labelCol=\"label\", metricName = \"rmse\")\n",
    "lasso_eval.evaluate(lasso_pred)"
   ]
  },
  {
   "cell_type": "code",
   "execution_count": 10,
   "metadata": {},
   "outputs": [],
   "source": [
    "# tuning for the best regularization parameter\n",
    "lr_eval = RegressionEvaluator(predictionCol=\"prediction\", labelCol=\"label\", metricName=\"rmse\")\n",
    "lasso_rmse = []\n",
    "for i in np.arange(0,2,0.1):\n",
    "    lr = LinearRegression(featuresCol=\"scaledFeatures\",labelCol=\"label\", maxIter=10, regParam=i, elasticNetParam=1.0)\n",
    "    lr_model = lr.fit(train)\n",
    "    lr_pred = lr_model.transform(test)\n",
    "    lasso_rmse.append(lr_eval.evaluate(lr_pred))"
   ]
  },
  {
   "cell_type": "code",
   "execution_count": 11,
   "metadata": {},
   "outputs": [
    {
     "name": "stdout",
     "output_type": "stream",
     "text": [
      "Coefficients: [2.3432107687055166,2.335496980080808,2.351507018736541,0.0,0.0,0.0,0.11665823538224018,0.11677310259646878,0.11570376864035758,0.0,0.2021151609606195,0.4561639633057909,-0.06630448131389101,0.0,0.08316706491276028,0.21425489512402357,-0.22106490695694275]\n",
      "Intercept: -38.05068552325747\n"
     ]
    },
    {
     "data": {
      "image/png": "[encoded data removed]",
      "text/plain": [
       "<Figure size 432x288 with 1 Axes>"
      ]
     },
     "metadata": {},
     "output_type": "display_data"
    }
   ],
   "source": [
    "sns.lineplot(np.arange(0,2,0.1), lasso_rmse)\n",
    "plt.title(\"RMSE values for Lasso Regression\")\n",
    "plt.xlabel(r\"$\\lambda$\")\n",
    "plt.ylabel(\"RMSE\")\n",
    "lasso = LinearRegression(featuresCol='scaledFeatures', labelCol='label', maxIter=10, regParam=.1, elasticNetParam=1)\n",
    "lasso_model = lasso.fit(train)\n",
    "\n",
    "print(\"Coefficients: \"+ str(lasso_model.coefficients))\n",
    "print(\"Intercept: \"+ str(lasso_model.intercept))"
   ]
  },
  {
   "cell_type": "code",
   "execution_count": 12,
   "metadata": {},
   "outputs": [
    {
     "name": "stdout",
     "output_type": "stream",
     "text": [
      "Coefficients: [2.339352956389189,2.243090524957954,2.4408348252052297,-0.05864324026049526,0.7135641687720012,-0.7401801850293638,0.16411801906848109,-0.03911532411969831,0.29192111334396587,1.4695510536875782,0.32682521485079896,0.6813504986932989,-1.1169257400094588,-0.48067575320325046,0.26203237378562805,0.37865033705974643,-0.38018443928166334]\n",
      "Intercept: -38.67617799274696\n"
     ]
    }
   ],
   "source": [
    "# ridge regression\n",
    "ridge = LinearRegression(featuresCol='scaledFeatures', labelCol='label', maxIter=10, regParam=.2, elasticNetParam=0)\n",
    "ridge_model = ridge.fit(train)\n",
    "\n",
    "print(\"Coefficients: \"+ str(ridge_model.coefficients))\n",
    "print(\"Intercept: \"+ str(ridge_model.intercept))"
   ]
  },
  {
   "cell_type": "code",
   "execution_count": 13,
   "metadata": {},
   "outputs": [
    {
     "data": {
      "text/plain": [
       "2.042316488371575"
      ]
     },
     "execution_count": 13,
     "metadata": {},
     "output_type": "execute_result"
    }
   ],
   "source": [
    "ridge_pred = ridge_model.transform(test)\n",
    "ridge_eval = RegressionEvaluator(predictionCol = \"prediction\", labelCol=\"label\", metricName = \"rmse\")\n",
    "ridge_eval.evaluate(ridge_pred)"
   ]
  },
  {
   "cell_type": "code",
   "execution_count": 14,
   "metadata": {},
   "outputs": [],
   "source": [
    "# tuning for the best regularization parameter\n",
    "ridge_rmse = []\n",
    "for i in np.arange(0,2,0.1):\n",
    "    lr = LinearRegression(featuresCol=\"scaledFeatures\",labelCol=\"label\", maxIter=10, regParam=i, elasticNetParam=0.0)\n",
    "    lr_model = lr.fit(train)\n",
    "    lr_pred = lr_model.transform(test)\n",
    "    ridge_rmse.append(lr_eval.evaluate(lr_pred))"
   ]
  },
  {
   "cell_type": "code",
   "execution_count": 15,
   "metadata": {},
   "outputs": [
    {
     "name": "stdout",
     "output_type": "stream",
     "text": [
      "Coefficients: [2.3637887521038556,2.1749203186080996,2.563265743477775,-0.10829495936017312,1.3019265405393923,-1.3490194010919603,0.15368932681982483,-0.1485599149014684,0.38569477514024314,2.5769381483138245,0.34222367296543216,0.7896368832307255,-1.8210275426329525,-0.901472124381682,0.25661968827523607,0.30214098405697226,-0.36037796670015904]\n",
      "Intercept: -36.62269640847665\n"
     ]
    },
    {
     "data": {
      "image/png": "[encoded data removed]",
      "text/plain": [
       "<Figure size 432x288 with 1 Axes>"
      ]
     },
     "metadata": {},
     "output_type": "display_data"
    }
   ],
   "source": [
    "sns.lineplot(np.arange(0,2,0.1), ridge_rmse)\n",
    "plt.title(\"RMSE values for Ridge Regression\")\n",
    "plt.xlabel(r\"$\\lambda$\")\n",
    "plt.ylabel(\"RMSE\")\n",
    "ridge = LinearRegression(featuresCol='scaledFeatures', labelCol='label', maxIter=10, regParam=.1, elasticNetParam=0)\n",
    "ridge_model = ridge.fit(train)\n",
    "\n",
    "print(\"Coefficients: \"+ str(ridge_model.coefficients))\n",
    "print(\"Intercept: \"+ str(ridge_model.intercept))"
   ]
  }
 ],
 "metadata": {
  "kernelspec": {
   "display_name": "Python 3.7.3 64-bit ('tf_gpu': conda)",
   "language": "python",
   "name": "python37364bittfgpuconda7e668d0e657f454088b0edd105307237"
  },
  "language_info": {
   "codemirror_mode": {
    "name": "ipython",
    "version": 3
   },
   "file_extension": ".py",
   "mimetype": "text/x-python",
   "name": "python",
   "nbconvert_exporter": "python",
   "pygments_lexer": "ipython3",
   "version": "3.7.3"
  }
 },
 "nbformat": 4,
 "nbformat_minor": 2
}
