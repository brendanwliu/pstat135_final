{
 "cells": [
  {
   "cell_type": "markdown",
   "metadata": {},
   "source": [
    "# Project Proposal - NOAA Soil Fertility Data\n",
    "## Brendan Liu (9441056), Elaine Sieng (4279873), Joshua Kim (9660796)"
   ]
  },
  {
   "cell_type": "markdown",
   "metadata": {},
   "source": [
    "# Introduction\n",
    "### Research Questions\n",
    "Can meteorological factors predict water quality? If so, which features are the most important for prediction? Can we predict certain variables of water quality such as pH, salinity, dissolved oxygen percent saturation, or turbidity using timestamped meteorological data? \n",
    "\n",
    "### Data Description\n",
    "An example of analysis done is provided in the paper The Use of Artificial Neural Networks for the Prediction of Water Quality Parameters predicted the salinity of the water with NOAA data for River Murray at Murray Bridge (South Australia) 14 days in advance. Maier and Dandy reported in their paper that high salinity water causes millions of dollars worth of damage to the city of Adelaide each year. Their forecasts can help them treat and pump the water in a timely manner before it becomes a large problem.\n",
    " \n",
    "All of the input parameters are float values, and we hope to perform a regression of any one of the water quality indicators, whether it be salinity, pH, etc… Since these are all time-stamped data, we must do some kind of time series analysis to see if these points are correlated in time at all, and if time evolution plays a role at all in the prediction of the water quality indicators. We hope to develop a rudimentary random forest, ARIMA, and/or gradient boosted tree algorithm.  \n",
    "\n",
    "We plan to mine the NOAA’s archived weather and water quality dataset available here: https://www.nodc.noaa.gov/cgi-bin/OAS/prd/accession/details/52765. "
   ]
  },
  {
   "cell_type": "markdown",
   "metadata": {},
   "source": [
    "# Data Source\n",
    "The National Estuarine Research Reserve System's System-wide Monitoring Program (NERRS SWMP) collected water quality, meteorological, and nutrient data in 26 reserves in the United States and Puerto Rico from January 1, 1995 to August 1, 2011. The NERRS Centralized Data Management Office (CDMO) assembled these data and submitted them to NODC per the \"Memorandum of Understanding between the Office of Ocean and Coastal Resource Management and the National Oceanographic Data Center Concerning the Transmittal of National Estuarine Research Reserve System Water Quality Monitoring Data.\" Water quality parameters include temperature, water depth, salinity, pH, dissolved oxygen, and turbidity. Meteorological parameters include air temperature, wind speed and direction, relative humidity, barometric pressure, rainfall, and photosynthetically active radiation (PAR).\n",
    " \n",
    "We plan to mine the 5GB archive of meteorological and water quality data from the National Estuarine Research Reserve System's System-wide Monitoring Program. The data spans from 2004-2006, and is organized by the 26 reserves in which the data came. Within these 26 reserves, some are divided into subregions, with their own sensors and data. Each of the 26 areas have meteorological data collected in 15/60 minute intervals over 3 years. Similarly, the water quality data is collected in 30/60 minute intervals over 3 years. Absolutely all the data is numeric (more specifically float) and there appears to be missing data in some of the files needing to be explored further."
   ]
  },
  {
   "cell_type": "markdown",
   "metadata": {},
   "source": [
    "# Methods of Analysis\n",
    "Preprocessing and Feature engineering - First, missing data must be handled. Since we are dealing with over 26,000 data points,a couple missing data on the hourly or 15-minute timescale should not affect the robustness of the final model. Therefore, missing data will be removed before moving to the training stage. Missing data is mostly attributed to either sensor downtime or maintenance. Next we need to figure out where the outliers are and how to deal with them. Just by calculating the standard deviation, we can flag data points over all input features that sit outside two standard deviations. We WILL NOT drop or put a cap on outlier values. In weather and water quality data, outliers are very telling of the underlying data generating process. We will perform a correlation analysis between feature columns to check for any correlation. Things like DO_pct and DO_mgl should be highly correlated, and only one would be used as a feature of the final model. We must calculate summary statistics on each column to understand if the variables must be normalized before training, and to check how each feature varies from the next.\n",
    "\n",
    "We plan on including the evolution of key feature columns over time, to see if there is a linear or seasonal trend to things like pH, Salinity, Temperature, etc… \n",
    "We plan on using a train-test split of 80-20 to train our random forests, arima, or gbm’s as well as normalize our data before training. We’re going to tune hyperparameters such as weight decay, tree depth, arima parameters, etc.. using some form of a grid search. "
   ]
  },
  {
   "cell_type": "markdown",
   "metadata": {},
   "source": [
    "# References\n",
    "1. The Use of Artificial Neural Networks for the Prediction of Water Quality Parameters - Maier - 1996 - Water Resources Research - Wiley Online Library https://agupubs.onlinelibrary.wiley.com/doi/abs/10.1029/96WR03529 (accessed May 8, 2020).\n",
    "(1)\n",
    "2. Zhang, Q.; Stanley, S. J. Forecasting Raw-Water Quality Parameters for the North Saskatchewan River by Neural Network Modeling. Water Research 1997, 31 (9), 2340–2350. https://doi.org/10.1016/S0043-1354(97)00072-9."
   ]
  },
  {
   "cell_type": "markdown",
   "metadata": {},
   "source": [
    "# Appendix\n",
    "\n",
    "Refer to `initial_eda.ipnynb` notebook for all of our code."
   ]
  }
 ],
 "metadata": {
  "kernelspec": {
   "display_name": "Python 3.7.3 64-bit ('tf_gpu': conda)",
   "language": "python",
   "name": "python37364bittfgpuconda7e668d0e657f454088b0edd105307237"
  },
  "language_info": {
   "codemirror_mode": {
    "name": "ipython",
    "version": 3
   },
   "file_extension": ".py",
   "mimetype": "text/x-python",
   "name": "python",
   "nbconvert_exporter": "python",
   "pygments_lexer": "ipython3",
   "version": "3.7.3"
  }
 },
 "nbformat": 4,
 "nbformat_minor": 4
}
