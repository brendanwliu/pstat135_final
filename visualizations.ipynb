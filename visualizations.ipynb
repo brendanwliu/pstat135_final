{
 "cells": [
  {
   "cell_type": "code",
   "execution_count": 1,
   "metadata": {},
   "outputs": [],
   "source": [
    "from pyspark import SparkContext\n",
    "from pyspark.sql import SQLContext, SparkSession\n",
    "from pyspark.sql import functions as F\n",
    "from pyspark.sql.types import *\n",
    "\n",
    "sc = SparkContext('local')\n",
    "spark = SparkSession(sc)"
   ]
  },
  {
   "cell_type": "code",
   "execution_count": 18,
   "metadata": {},
   "outputs": [
    {
     "output_type": "stream",
     "name": "stdout",
     "text": "+---+--------+-----+----------+--------+-----+-------+--------+-------+--------+---+-----+------+-----+------+----+-----+------+-----+------+----+----+------+-------+--------+-------+--------+-------+-------+-------+-------+--------+\n|_c0| STNCODE|CLASS|  SMPLDATE|SMPLTIME|ATemp|MaxTemp|MaxTempT|MinTemp|MinTempT| RH|MaxRH|MaxRHT|MinRH|MinRHT|  BP|MaxBP|MaxBPT|MinBP|MinBPT|WSpd|Wdir|SDWDir|MaxWSpd|MaxWSpdT|MinWSpd|MinWSpdT|TotPrcp| TotPAR|AvgVolt|TotSRad|CummRain|\n+---+--------+-----+----------+--------+-----+-------+--------+-------+--------+---+-----+------+-----+------+----+-----+------+-----+------+----+----+------+-------+--------+-------+--------+-------+-------+-------+-------+--------+\n|  0|niwolmet|   15|01/01/2005|   00:15| 12.1|   12.8|       4|   11.4|      13|092|  095|    14|  090|     4|1030| 1030|     3| 1030|     9|00.9| 325|   004|   02.2|       8|   00.2|       0|   00.0|-0000.2|   12.6|   00.0|     0.0|\n|  1|niwolmet|   15|01/01/2005|   00:30| 11.4|   11.5|      22|   11.2|      29|095|  096|    30|  094|    24|1030| 1030|    15| 1029|    21|00.3| 326|   005|   01.4|      15|   00.2|      16|   00.0|-0000.1|   12.6|   00.0|     0.0|\n|  2|niwolmet|   15|01/01/2005|   00:45| 10.9|   11.2|      30|   10.7|      40|096|  097|    44|  095|    33|1030| 1030|    44| 1029|    33|00.2| 311|   007|   00.2|      30|   00.2|      30|   00.0|-0000.1|   12.6|   00.0|     0.0|\n|  3|niwolmet|   15|01/01/2005|   01:00| 10.6|   10.7|      45|   10.5|      59|097|  097|    59|  096|    45|1030| 1030|    59| 1030|    45|00.2| 306|   000|   00.2|      45|   00.2|      45|   00.0|-0000.1|   12.6|   00.0|     0.0|\n|  4|niwolmet|   60|01/01/2005|   01:00| 11.2|   12.8|       4|   10.5|      59|095|  097|    59|  090|     4|1030| 1030|     3| 1029|    21|00.4| 317|   010|   02.2|       8|   00.2|       0|   00.0|-0000.5|   12.6|   00.0|     0.0|\n+---+--------+-----+----------+--------+-----+-------+--------+-------+--------+---+-----+------+-----+------+----+-----+------+-----+------+----+----+------+-------+--------+-------+--------+-------+-------+-------+-------+--------+\nonly showing top 5 rows\n\n"
    }
   ],
   "source": [
    "data_sample = \"./input/clean/agg/NOAA_meteor_data_2005.csv\"\n",
    "\n",
    "sample_df = spark.read.csv(data_sample,header=True)\n",
    "sample_df.show(5)"
   ]
  },
  {
   "cell_type": "code",
   "execution_count": 28,
   "metadata": {},
   "outputs": [
    {
     "output_type": "stream",
     "name": "stdout",
     "text": "root\n |-- ATemp: float (nullable = true)\n |-- MaxTemp: float (nullable = true)\n |-- MaxTempT: float (nullable = true)\n |-- MinTemp: float (nullable = true)\n |-- MinTempT: float (nullable = true)\n |-- RH: float (nullable = true)\n |-- MaxRH: float (nullable = true)\n |-- MaxRHT: float (nullable = true)\n |-- MinRH: float (nullable = true)\n |-- MinRHT: float (nullable = true)\n |-- BP: float (nullable = true)\n |-- MaxBP: float (nullable = true)\n |-- MaxBPT: float (nullable = true)\n |-- MinBP: float (nullable = true)\n |-- MinBPT: float (nullable = true)\n |-- WSpd: float (nullable = true)\n |-- Wdir: float (nullable = true)\n |-- SDWDir: float (nullable = true)\n |-- MaxWSpd: float (nullable = true)\n |-- MaxWSpdT: float (nullable = true)\n |-- MinWSpd: float (nullable = true)\n |-- MinWSpdT: float (nullable = true)\n |-- TotPrcp: float (nullable = true)\n |-- TotPAR: float (nullable = true)\n |-- AvgVolt: float (nullable = true)\n |-- TotSRad: float (nullable = true)\n |-- CummRain: float (nullable = true)\n\n"
    }
   ],
   "source": [
    "sample_df = sample_df.filter(F.col(\"Class\") == '15')\n",
    "sample_df.select(*(F.col(c).cast(\"float\").alias(c) for c in sample_df.columns[5:])).printSchema()\n"
   ]
  },
  {
   "cell_type": "code",
   "execution_count": null,
   "metadata": {},
   "outputs": [],
   "source": []
  }
 ],
 "metadata": {
  "language_info": {
   "codemirror_mode": {
    "name": "ipython",
    "version": 3
   },
   "file_extension": ".py",
   "mimetype": "text/x-python",
   "name": "python",
   "nbconvert_exporter": "python",
   "pygments_lexer": "ipython3",
   "version": "3.7.3-final"
  },
  "orig_nbformat": 2,
  "kernelspec": {
   "name": "python37364bittfgpuconda7e668d0e657f454088b0edd105307237",
   "display_name": "Python 3.7.3 64-bit ('tf_gpu': conda)"
  }
 },
 "nbformat": 4,
 "nbformat_minor": 2
}